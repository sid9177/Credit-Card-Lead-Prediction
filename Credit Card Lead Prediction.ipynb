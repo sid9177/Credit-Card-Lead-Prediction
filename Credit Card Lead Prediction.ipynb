{
 "cells": [
  {
   "cell_type": "markdown",
   "id": "boolean-brief",
   "metadata": {},
   "source": [
    "# Importing the Libraries"
   ]
  },
  {
   "cell_type": "code",
   "execution_count": 1,
   "id": "realistic-chemical",
   "metadata": {},
   "outputs": [],
   "source": [
    "import numpy as np\n",
    "import pandas as pd\n",
    "from sklearn.impute import SimpleImputer\n",
    "import category_encoders as ce\n",
    "import seaborn as sns\n",
    "import matplotlib.pyplot as plt\n",
    "from scipy import stats\n",
    "from sklearn.preprocessing import PowerTransformer\n",
    "from sklearn.preprocessing import StandardScaler\n",
    "from sklearn.model_selection import train_test_split\n",
    "from sklearn.model_selection import GridSearchCV\n",
    "from sklearn.svm import SVC\n",
    "from sklearn.svm import LinearSVC\n",
    "from sklearn.linear_model import LogisticRegression\n",
    "from sklearn.neighbors import KNeighborsClassifier\n",
    "from sklearn.tree import DecisionTreeClassifier\n",
    "from sklearn.metrics import roc_auc_score\n",
    "from sklearn.metrics import confusion_matrix\n",
    "from sklearn import metrics\n",
    "from sklearn.ensemble import GradientBoostingClassifier\n",
    "from sklearn.decomposition import PCA\n",
    "from sklearn.model_selection import cross_val_score\n",
    "from sklearn.model_selection import RepeatedStratifiedKFold\n",
    "from numpy import mean\n",
    "from sklearn.model_selection import KFold\n",
    "from xgboost import XGBClassifier\n",
    "from catboost import CatBoostClassifier\n",
    "from sklearn.ensemble import RandomForestClassifier\n",
    "from sklearn.ensemble import RandomForestRegressor\n",
    "from sklearn.naive_bayes import GaussianNB\n",
    "from sklearn.ensemble import AdaBoostClassifier\n",
    "import lightgbm as lgb\n",
    "from sklearn.experimental import enable_iterative_imputer\n",
    "from sklearn.impute import IterativeImputer\n",
    "from sklearn.impute import KNNImputer\n",
    "from sklearn.model_selection import KFold, StratifiedKFold\n",
    "from sklearn.preprocessing import LabelEncoder\n",
    "from imblearn.combine import SMOTETomek\n",
    "from imblearn.combine import SMOTEENN\n",
    "from imblearn.over_sampling import RandomOverSampler\n",
    "from imblearn.under_sampling import NearMiss\n",
    "import warnings"
   ]
  },
  {
   "cell_type": "code",
   "execution_count": 2,
   "id": "thorough-heritage",
   "metadata": {},
   "outputs": [],
   "source": [
    "warnings.filterwarnings('ignore')"
   ]
  },
  {
   "cell_type": "markdown",
   "id": "synthetic-comfort",
   "metadata": {},
   "source": [
    "# Preparing the Data"
   ]
  },
  {
   "cell_type": "code",
   "execution_count": 3,
   "id": "naughty-finance",
   "metadata": {},
   "outputs": [],
   "source": [
    "df_train=pd.read_csv(\"train.csv\")"
   ]
  },
  {
   "cell_type": "code",
   "execution_count": 4,
   "id": "angry-beauty",
   "metadata": {},
   "outputs": [],
   "source": [
    "df_test=pd.read_csv('test.csv')"
   ]
  },
  {
   "cell_type": "code",
   "execution_count": 5,
   "id": "expired-infection",
   "metadata": {},
   "outputs": [],
   "source": [
    "df_train['source'] = 'train'\n",
    "df_test['source'] = 'test'"
   ]
  },
  {
   "cell_type": "code",
   "execution_count": 6,
   "id": "direct-energy",
   "metadata": {},
   "outputs": [],
   "source": [
    "df=pd.concat([df_train,df_test],ignore_index=True)"
   ]
  },
  {
   "cell_type": "code",
   "execution_count": 7,
   "id": "framed-ethiopia",
   "metadata": {},
   "outputs": [],
   "source": [
    "df.drop(\"ID\",axis=1,inplace=True)"
   ]
  },
  {
   "cell_type": "code",
   "execution_count": 8,
   "id": "cathedral-geology",
   "metadata": {},
   "outputs": [
    {
     "name": "stdout",
     "output_type": "stream",
     "text": [
      "<class 'pandas.core.frame.DataFrame'>\n",
      "RangeIndex: 351037 entries, 0 to 351036\n",
      "Data columns (total 11 columns):\n",
      " #   Column               Non-Null Count   Dtype  \n",
      "---  ------               --------------   -----  \n",
      " 0   Gender               351037 non-null  object \n",
      " 1   Age                  351037 non-null  int64  \n",
      " 2   Region_Code          351037 non-null  object \n",
      " 3   Occupation           351037 non-null  object \n",
      " 4   Channel_Code         351037 non-null  object \n",
      " 5   Vintage              351037 non-null  int64  \n",
      " 6   Credit_Product       309190 non-null  object \n",
      " 7   Avg_Account_Balance  351037 non-null  int64  \n",
      " 8   Is_Active            351037 non-null  object \n",
      " 9   Is_Lead              245725 non-null  float64\n",
      " 10  source               351037 non-null  object \n",
      "dtypes: float64(1), int64(3), object(7)\n",
      "memory usage: 29.5+ MB\n"
     ]
    }
   ],
   "source": [
    "df.info()"
   ]
  },
  {
   "cell_type": "code",
   "execution_count": 9,
   "id": "collected-exclusion",
   "metadata": {},
   "outputs": [
    {
     "data": {
      "text/plain": [
       "Gender                      0\n",
       "Age                         0\n",
       "Region_Code                 0\n",
       "Occupation                  0\n",
       "Channel_Code                0\n",
       "Vintage                     0\n",
       "Credit_Product          41847\n",
       "Avg_Account_Balance         0\n",
       "Is_Active                   0\n",
       "Is_Lead                105312\n",
       "source                      0\n",
       "dtype: int64"
      ]
     },
     "execution_count": 9,
     "metadata": {},
     "output_type": "execute_result"
    }
   ],
   "source": [
    "df.isnull().sum()"
   ]
  },
  {
   "cell_type": "code",
   "execution_count": 10,
   "id": "willing-traveler",
   "metadata": {},
   "outputs": [
    {
     "data": {
      "image/png": "[encoded data removed]",
      "text/plain": [
       "<Figure size 432x288 with 1 Axes>"
      ]
     },
     "metadata": {
      "needs_background": "light"
     },
     "output_type": "display_data"
    }
   ],
   "source": [
    "sns.distplot(df['Avg_Account_Balance'])\n",
    "plt.show()"
   ]
  },
  {
   "cell_type": "markdown",
   "id": "exotic-climate",
   "metadata": {},
   "source": [
    "### Applying Log transformation to get the data to Normal Distribution"
   ]
  },
  {
   "cell_type": "code",
   "execution_count": 11,
   "id": "protected-polyester",
   "metadata": {},
   "outputs": [
    {
     "data": {
      "image/png": "[encoded data removed]",
      "text/plain": [
       "<Figure size 432x288 with 1 Axes>"
      ]
     },
     "metadata": {
      "needs_background": "light"
     },
     "output_type": "display_data"
    }
   ],
   "source": [
    "df['Avg_Account_Balance'] = np.log(df['Avg_Account_Balance'])\n",
    "sns.distplot(df['Avg_Account_Balance'])\n",
    "plt.show()"
   ]
  },
  {
   "cell_type": "code",
   "execution_count": 12,
   "id": "incorporate-colonial",
   "metadata": {},
   "outputs": [],
   "source": [
    "# data['Credit_Product'].replace(np.nan,'Yes',inplace=True)"
   ]
  },
  {
   "cell_type": "markdown",
   "id": "marine-thailand",
   "metadata": {},
   "source": [
    "#### Feature Engineering:"
   ]
  },
  {
   "cell_type": "code",
   "execution_count": 13,
   "id": "animal-majority",
   "metadata": {},
   "outputs": [],
   "source": [
    "le = LabelEncoder()\n",
    "var_mod = ['Gender','Region_Code','Is_Active']\n",
    "for i in var_mod:\n",
    "    df[i] = le.fit_transform(df[i])"
   ]
  },
  {
   "cell_type": "code",
   "execution_count": 14,
   "id": "unexpected-tumor",
   "metadata": {},
   "outputs": [
    {
     "data": {
      "text/plain": [
       "Gender                      0\n",
       "Age                         0\n",
       "Region_Code                 0\n",
       "Occupation                  0\n",
       "Channel_Code                0\n",
       "Vintage                     0\n",
       "Credit_Product          41847\n",
       "Avg_Account_Balance         0\n",
       "Is_Active                   0\n",
       "Is_Lead                105312\n",
       "source                      0\n",
       "dtype: int64"
      ]
     },
     "execution_count": 14,
     "metadata": {},
     "output_type": "execute_result"
    }
   ],
   "source": [
    "df.isnull().sum()"
   ]
  },
  {
   "cell_type": "code",
   "execution_count": 15,
   "id": "lyric-series",
   "metadata": {},
   "outputs": [],
   "source": [
    "encoder1=ce.BinaryEncoder(cols='Occupation')"
   ]
  },
  {
   "cell_type": "code",
   "execution_count": 16,
   "id": "possible-allen",
   "metadata": {},
   "outputs": [],
   "source": [
    "Occupation=encoder1.fit_transform(df['Occupation'])"
   ]
  },
  {
   "cell_type": "code",
   "execution_count": 17,
   "id": "funny-dating",
   "metadata": {},
   "outputs": [],
   "source": [
    "df.drop('Occupation',inplace=True,axis=1)"
   ]
  },
  {
   "cell_type": "code",
   "execution_count": 18,
   "id": "laughing-front",
   "metadata": {},
   "outputs": [],
   "source": [
    "df=pd.concat([df,pd.DataFrame(Occupation)],axis=1)"
   ]
  },
  {
   "cell_type": "code",
   "execution_count": 19,
   "id": "working-ontario",
   "metadata": {},
   "outputs": [],
   "source": [
    "encoder2=ce.BinaryEncoder(cols='Channel_Code')"
   ]
  },
  {
   "cell_type": "code",
   "execution_count": 20,
   "id": "atmospheric-generic",
   "metadata": {},
   "outputs": [],
   "source": [
    "ChannelCode=encoder2.fit_transform(df['Channel_Code'])"
   ]
  },
  {
   "cell_type": "code",
   "execution_count": 21,
   "id": "serious-sweden",
   "metadata": {},
   "outputs": [],
   "source": [
    "df.drop('Channel_Code',inplace=True,axis=1)"
   ]
  },
  {
   "cell_type": "code",
   "execution_count": 22,
   "id": "printable-instrumentation",
   "metadata": {},
   "outputs": [],
   "source": [
    "df=pd.concat([df,pd.DataFrame(ChannelCode)],axis=1)"
   ]
  },
  {
   "cell_type": "code",
   "execution_count": 23,
   "id": "forced-israeli",
   "metadata": {},
   "outputs": [],
   "source": [
    "df['Credit_Product']=df['Credit_Product'].replace('Yes',1)"
   ]
  },
  {
   "cell_type": "code",
   "execution_count": 24,
   "id": "individual-attachment",
   "metadata": {},
   "outputs": [],
   "source": [
    "df['Credit_Product']=df['Credit_Product'].replace('No',0)"
   ]
  },
  {
   "cell_type": "code",
   "execution_count": 25,
   "id": "affecting-water",
   "metadata": {},
   "outputs": [
    {
     "name": "stdout",
     "output_type": "stream",
     "text": [
      "<class 'pandas.core.frame.DataFrame'>\n",
      "RangeIndex: 351037 entries, 0 to 351036\n",
      "Data columns (total 15 columns):\n",
      " #   Column               Non-Null Count   Dtype  \n",
      "---  ------               --------------   -----  \n",
      " 0   Gender               351037 non-null  int32  \n",
      " 1   Age                  351037 non-null  int64  \n",
      " 2   Region_Code          351037 non-null  int32  \n",
      " 3   Vintage              351037 non-null  int64  \n",
      " 4   Credit_Product       309190 non-null  float64\n",
      " 5   Avg_Account_Balance  351037 non-null  float64\n",
      " 6   Is_Active            351037 non-null  int32  \n",
      " 7   Is_Lead              245725 non-null  float64\n",
      " 8   source               351037 non-null  object \n",
      " 9   Occupation_0         351037 non-null  int64  \n",
      " 10  Occupation_1         351037 non-null  int64  \n",
      " 11  Occupation_2         351037 non-null  int64  \n",
      " 12  Channel_Code_0       351037 non-null  int64  \n",
      " 13  Channel_Code_1       351037 non-null  int64  \n",
      " 14  Channel_Code_2       351037 non-null  int64  \n",
      "dtypes: float64(3), int32(3), int64(8), object(1)\n",
      "memory usage: 36.2+ MB\n"
     ]
    }
   ],
   "source": [
    "df.info()"
   ]
  },
  {
   "cell_type": "code",
   "execution_count": 26,
   "id": "ranking-little",
   "metadata": {},
   "outputs": [],
   "source": [
    "df1=df[df.columns[[0,1,2,3,4,5,6,9,10,11,12,13,14,7,8]]]\n"
   ]
  },
  {
   "cell_type": "markdown",
   "id": "professional-stephen",
   "metadata": {},
   "source": [
    "#### Handling the missing values:"
   ]
  },
  {
   "cell_type": "code",
   "execution_count": 27,
   "id": "checked-alarm",
   "metadata": {},
   "outputs": [],
   "source": [
    "impute_it=IterativeImputer()"
   ]
  },
  {
   "cell_type": "code",
   "execution_count": 28,
   "id": "protecting-beatles",
   "metadata": {},
   "outputs": [],
   "source": [
    "df1.iloc[:,0:9]=impute_it.fit_transform(df1.iloc[:,0:9])"
   ]
  },
  {
   "cell_type": "code",
   "execution_count": 29,
   "id": "systematic-north",
   "metadata": {},
   "outputs": [
    {
     "name": "stdout",
     "output_type": "stream",
     "text": [
      "<class 'pandas.core.frame.DataFrame'>\n",
      "RangeIndex: 351037 entries, 0 to 351036\n",
      "Data columns (total 15 columns):\n",
      " #   Column               Non-Null Count   Dtype  \n",
      "---  ------               --------------   -----  \n",
      " 0   Gender               351037 non-null  float64\n",
      " 1   Age                  351037 non-null  float64\n",
      " 2   Region_Code          351037 non-null  float64\n",
      " 3   Vintage              351037 non-null  float64\n",
      " 4   Credit_Product       351037 non-null  float64\n",
      " 5   Avg_Account_Balance  351037 non-null  float64\n",
      " 6   Is_Active            351037 non-null  float64\n",
      " 7   Occupation_0         351037 non-null  float64\n",
      " 8   Occupation_1         351037 non-null  float64\n",
      " 9   Occupation_2         351037 non-null  int64  \n",
      " 10  Channel_Code_0       351037 non-null  int64  \n",
      " 11  Channel_Code_1       351037 non-null  int64  \n",
      " 12  Channel_Code_2       351037 non-null  int64  \n",
      " 13  Is_Lead              245725 non-null  float64\n",
      " 14  source               351037 non-null  object \n",
      "dtypes: float64(10), int64(4), object(1)\n",
      "memory usage: 40.2+ MB\n"
     ]
    }
   ],
   "source": [
    "df1.info()"
   ]
  },
  {
   "cell_type": "code",
   "execution_count": 30,
   "id": "communist-transcription",
   "metadata": {},
   "outputs": [],
   "source": [
    "train = df1.loc[df1['source']==\"train\"]\n",
    "test = df1.loc[df1['source']==\"test\"]"
   ]
  },
  {
   "cell_type": "code",
   "execution_count": 31,
   "id": "second-divorce",
   "metadata": {},
   "outputs": [],
   "source": [
    "test.drop(['Is_Lead','source'],axis=1,inplace=True)\n",
    "train.drop('source',axis=1,inplace=True)"
   ]
  },
  {
   "cell_type": "code",
   "execution_count": 32,
   "id": "attached-understanding",
   "metadata": {},
   "outputs": [],
   "source": [
    "# Seperate Features and Target\n",
    "X= train.drop(columns = ['Is_Lead'], axis=1)\n",
    "y= train['Is_Lead']"
   ]
  },
  {
   "cell_type": "markdown",
   "id": "soviet-chain",
   "metadata": {},
   "source": [
    "### Splitting into Training and Testing:"
   ]
  },
  {
   "cell_type": "code",
   "execution_count": 33,
   "id": "local-explosion",
   "metadata": {},
   "outputs": [],
   "source": [
    "from sklearn.model_selection import train_test_split\n",
    "\n",
    "X_train, X_test, y_train, y_test = train_test_split(X, y, random_state = 0)"
   ]
  },
  {
   "cell_type": "markdown",
   "id": "searching-bidding",
   "metadata": {},
   "source": [
    "## GridSearchCV to find the best parameters:"
   ]
  },
  {
   "cell_type": "code",
   "execution_count": 513,
   "id": "compatible-richmond",
   "metadata": {},
   "outputs": [
    {
     "data": {
      "text/plain": [
       "GridSearchCV(estimator=LGBMClassifier(random_state=0), n_jobs=-1,\n",
       "             param_grid={'learning_rate': [0.05, 0.1, 0.3, 0.5, 0.7],\n",
       "                         'max_bin': [20, 50, 100, 150, 200, 300, 500],\n",
       "                         'max_depth': [5, 10, 15, 20, 50],\n",
       "                         'num_leaves': [50, 100, 150, 200, 250],\n",
       "                         'objective': ['binary']},\n",
       "             return_train_score=True)"
      ]
     },
     "execution_count": 513,
     "metadata": {},
     "output_type": "execute_result"
    }
   ],
   "source": [
    "param_grid={'num_leaves':[50,100,150,200,250],'objective':['binary'],'max_depth':[5,10,15,20,50],'learning_rate':[0.05,0.1,0.3,0.5,0.7],\n",
    "           'max_bin':[20,50,100,150,200,300,500]}\n",
    "grid_search_lgbm=GridSearchCV(lgb.LGBMClassifier(random_state=0),param_grid,return_train_score=True,n_jobs=-1)\n",
    "grid_search_lgbm.fit(X_train, y_train)"
   ]
  },
  {
   "cell_type": "code",
   "execution_count": 514,
   "id": "global-visitor",
   "metadata": {},
   "outputs": [
    {
     "name": "stdout",
     "output_type": "stream",
     "text": [
      "Best parameters: {'learning_rate': 0.1, 'max_bin': 200, 'max_depth': 5, 'num_leaves': 50, 'objective': 'binary'}\n"
     ]
    }
   ],
   "source": [
    "print(\"Best parameters: {}\".format(grid_search_lgbm.best_params_))"
   ]
  },
  {
   "cell_type": "markdown",
   "id": "veterinary-maldives",
   "metadata": {},
   "source": [
    "# Cross- Validation function( Stratified Cross Validation):"
   ]
  },
  {
   "cell_type": "markdown",
   "id": "unknown-norfolk",
   "metadata": {},
   "source": [
    "#### Used Stratified K-Fold because of the imbalance of categories in the data"
   ]
  },
  {
   "cell_type": "code",
   "execution_count": 34,
   "id": "analyzed-bearing",
   "metadata": {},
   "outputs": [],
   "source": [
    "def cross_val(X, y, model, params, folds=9):\n",
    "\n",
    "    skf = StratifiedKFold(n_splits=folds, shuffle=True, random_state=21)\n",
    "    for fold, (train_idx, test_idx) in enumerate(skf.split(X, y)):\n",
    "        print(f\"Fold: {fold}\")\n",
    "        x_train, y_train = X.iloc[train_idx], y.iloc[train_idx]\n",
    "        x_test, y_test = X.iloc[test_idx], y.iloc[test_idx]\n",
    "\n",
    "        alg = model(**params)\n",
    "        alg.fit(x_train, y_train,\n",
    "                eval_set=[(x_test, y_test)],\n",
    "                early_stopping_rounds=100,\n",
    "                verbose=400)\n",
    "\n",
    "        pred = alg.predict_proba(x_test)[:, 1]\n",
    "        roc_score = roc_auc_score(y_test, pred)\n",
    "        print(f\"roc_auc_score: {roc_score}\")\n",
    "        print(\"-\"*50)\n",
    "    \n",
    "    return alg"
   ]
  },
  {
   "cell_type": "markdown",
   "id": "respected-excerpt",
   "metadata": {},
   "source": [
    "## CatBoosting:"
   ]
  },
  {
   "cell_type": "code",
   "execution_count": 458,
   "id": "played-holder",
   "metadata": {},
   "outputs": [],
   "source": [
    "Best_parameters= {'learning_rate': 0.045, \n",
    "             'n_estimators': 20000, \n",
    "             'max_bin': 94, \n",
    "             'reg_lambda': 6.853, \n",
    "             'subsample': 0.749}"
   ]
  },
  {
   "cell_type": "code",
   "execution_count": 459,
   "id": "bronze-buffer",
   "metadata": {},
   "outputs": [
    {
     "name": "stdout",
     "output_type": "stream",
     "text": [
      "Fold: 0\n",
      "0:\tlearn: 0.6559391\ttest: 0.6557898\tbest: 0.6557898 (0)\ttotal: 215ms\tremaining: 1h 11m 46s\n",
      "400:\tlearn: 0.3410119\ttest: 0.3415302\tbest: 0.3415224 (393)\ttotal: 23.3s\tremaining: 18m 57s\n",
      "Stopped by overfitting detector  (100 iterations wait)\n",
      "\n",
      "bestTest = 0.3413531167\n",
      "bestIteration = 680\n",
      "\n",
      "Shrink model to first 681 iterations.\n",
      "roc_auc_score: 0.8757489973060519\n",
      "--------------------------------------------------\n",
      "Fold: 1\n",
      "0:\tlearn: 0.6558403\ttest: 0.6558315\tbest: 0.6558315 (0)\ttotal: 54.2ms\tremaining: 18m 3s\n",
      "400:\tlearn: 0.3402431\ttest: 0.3477907\tbest: 0.3477867 (383)\ttotal: 22.7s\tremaining: 18m 31s\n",
      "Stopped by overfitting detector  (100 iterations wait)\n",
      "\n",
      "bestTest = 0.3477710715\n",
      "bestIteration = 478\n",
      "\n",
      "Shrink model to first 479 iterations.\n",
      "roc_auc_score: 0.8720415119846834\n",
      "--------------------------------------------------\n",
      "Fold: 2\n",
      "0:\tlearn: 0.6558497\ttest: 0.6558090\tbest: 0.6558090 (0)\ttotal: 59.5ms\tremaining: 19m 50s\n",
      "400:\tlearn: 0.3404654\ttest: 0.3461576\tbest: 0.3461484 (398)\ttotal: 21.9s\tremaining: 17m 48s\n",
      "Stopped by overfitting detector  (100 iterations wait)\n",
      "\n",
      "bestTest = 0.3461303451\n",
      "bestIteration = 483\n",
      "\n",
      "Shrink model to first 484 iterations.\n",
      "roc_auc_score: 0.8712019089998542\n",
      "--------------------------------------------------\n",
      "Fold: 3\n",
      "0:\tlearn: 0.6557275\ttest: 0.6559242\tbest: 0.6559242 (0)\ttotal: 59.9ms\tremaining: 19m 58s\n",
      "400:\tlearn: 0.3404037\ttest: 0.3463107\tbest: 0.3463107 (400)\ttotal: 23.2s\tremaining: 18m 56s\n",
      "Stopped by overfitting detector  (100 iterations wait)\n",
      "\n",
      "bestTest = 0.3461674783\n",
      "bestIteration = 503\n",
      "\n",
      "Shrink model to first 504 iterations.\n",
      "roc_auc_score: 0.8722321021242182\n",
      "--------------------------------------------------\n",
      "Fold: 4\n",
      "0:\tlearn: 0.6558814\ttest: 0.6560116\tbest: 0.6560116 (0)\ttotal: 59.2ms\tremaining: 19m 44s\n",
      "400:\tlearn: 0.3410462\ttest: 0.3418917\tbest: 0.3418866 (398)\ttotal: 22.7s\tremaining: 18m 27s\n",
      "Stopped by overfitting detector  (100 iterations wait)\n",
      "\n",
      "bestTest = 0.3418127813\n",
      "bestIteration = 444\n",
      "\n",
      "Shrink model to first 445 iterations.\n",
      "roc_auc_score: 0.8755708558741069\n",
      "--------------------------------------------------\n",
      "Fold: 5\n",
      "0:\tlearn: 0.6558784\ttest: 0.6559291\tbest: 0.6559291 (0)\ttotal: 59ms\tremaining: 19m 39s\n",
      "400:\tlearn: 0.3406033\ttest: 0.3449381\tbest: 0.3449267 (375)\ttotal: 22.8s\tremaining: 18m 32s\n",
      "Stopped by overfitting detector  (100 iterations wait)\n",
      "\n",
      "bestTest = 0.3448951867\n",
      "bestIteration = 471\n",
      "\n",
      "Shrink model to first 472 iterations.\n",
      "roc_auc_score: 0.8724626047525746\n",
      "--------------------------------------------------\n",
      "Fold: 6\n",
      "0:\tlearn: 0.6559669\ttest: 0.6558811\tbest: 0.6558811 (0)\ttotal: 62.1ms\tremaining: 20m 41s\n",
      "400:\tlearn: 0.3412296\ttest: 0.3399306\tbest: 0.3399080 (392)\ttotal: 22.2s\tremaining: 18m 7s\n",
      "Stopped by overfitting detector  (100 iterations wait)\n",
      "\n",
      "bestTest = 0.3397836411\n",
      "bestIteration = 542\n",
      "\n",
      "Shrink model to first 543 iterations.\n",
      "roc_auc_score: 0.8778714859830754\n",
      "--------------------------------------------------\n",
      "Fold: 7\n",
      "0:\tlearn: 0.6558983\ttest: 0.6558380\tbest: 0.6558380 (0)\ttotal: 49.3ms\tremaining: 16m 26s\n",
      "400:\tlearn: 0.3409025\ttest: 0.3419286\tbest: 0.3419277 (399)\ttotal: 25.5s\tremaining: 20m 48s\n",
      "Stopped by overfitting detector  (100 iterations wait)\n",
      "\n",
      "bestTest = 0.3418083969\n",
      "bestIteration = 564\n",
      "\n",
      "Shrink model to first 565 iterations.\n",
      "roc_auc_score: 0.8770853059857058\n",
      "--------------------------------------------------\n",
      "Fold: 8\n",
      "0:\tlearn: 0.6558859\ttest: 0.6559163\tbest: 0.6559163 (0)\ttotal: 58.9ms\tremaining: 19m 38s\n",
      "400:\tlearn: 0.3406169\ttest: 0.3444043\tbest: 0.3444008 (397)\ttotal: 26.6s\tremaining: 21m 38s\n",
      "Stopped by overfitting detector  (100 iterations wait)\n",
      "\n",
      "bestTest = 0.3443811338\n",
      "bestIteration = 477\n",
      "\n",
      "Shrink model to first 478 iterations.\n",
      "roc_auc_score: 0.8716620875625427\n",
      "--------------------------------------------------\n"
     ]
    }
   ],
   "source": [
    "cat_model = cross_val(X, y, CatBoostClassifier, Best_parameters)"
   ]
  },
  {
   "cell_type": "markdown",
   "id": "completed-length",
   "metadata": {},
   "source": [
    "## XGBoosting:"
   ]
  },
  {
   "cell_type": "code",
   "execution_count": 48,
   "id": "varied-floor",
   "metadata": {},
   "outputs": [],
   "source": [
    "xgb_params= {'n_estimators': 20000, \n",
    "             'max_depth': 6, \n",
    "             'learning_rate': 0.0201, \n",
    "             'reg_lambda': 29.326, \n",
    "             'subsample': 0.818, \n",
    "             'colsample_bytree': 0.235, \n",
    "             'colsample_bynode': 0.820, \n",
    "             'colsample_bylevel': 0.453}"
   ]
  },
  {
   "cell_type": "code",
   "execution_count": 49,
   "id": "cubic-worry",
   "metadata": {},
   "outputs": [
    {
     "name": "stdout",
     "output_type": "stream",
     "text": [
      "Fold: 0\n",
      "[23:23:42] WARNING: C:/Users/Administrator/workspace/xgboost-win64_release_1.4.0/src/learner.cc:1095: Starting in XGBoost 1.3.0, the default evaluation metric used with the objective 'binary:logistic' was changed from 'error' to 'logloss'. Explicitly set eval_metric if you'd like to restore the old behavior.\n",
      "[0]\tvalidation_0-logloss:0.68220\n",
      "[400]\tvalidation_0-logloss:0.38160\n",
      "[800]\tvalidation_0-logloss:0.35574\n",
      "[1200]\tvalidation_0-logloss:0.35014\n",
      "[1600]\tvalidation_0-logloss:0.34788\n",
      "[2000]\tvalidation_0-logloss:0.34686\n",
      "[2400]\tvalidation_0-logloss:0.34609\n",
      "[2800]\tvalidation_0-logloss:0.34558\n",
      "[3200]\tvalidation_0-logloss:0.34501\n",
      "[3600]\tvalidation_0-logloss:0.34468\n",
      "[4000]\tvalidation_0-logloss:0.34443\n",
      "[4400]\tvalidation_0-logloss:0.34408\n",
      "[4800]\tvalidation_0-logloss:0.34389\n",
      "[5200]\tvalidation_0-logloss:0.34376\n",
      "[5600]\tvalidation_0-logloss:0.34367\n",
      "[5711]\tvalidation_0-logloss:0.34366\n",
      "roc_auc_score: 0.8746421629902482\n",
      "--------------------------------------------------\n",
      "Fold: 1\n",
      "[23:28:46] WARNING: C:/Users/Administrator/workspace/xgboost-win64_release_1.4.0/src/learner.cc:1095: Starting in XGBoost 1.3.0, the default evaluation metric used with the objective 'binary:logistic' was changed from 'error' to 'logloss'. Explicitly set eval_metric if you'd like to restore the old behavior.\n",
      "[0]\tvalidation_0-logloss:0.68230\n",
      "[400]\tvalidation_0-logloss:0.38433\n",
      "[800]\tvalidation_0-logloss:0.36046\n",
      "[1200]\tvalidation_0-logloss:0.35564\n",
      "[1600]\tvalidation_0-logloss:0.35370\n",
      "[2000]\tvalidation_0-logloss:0.35290\n",
      "[2400]\tvalidation_0-logloss:0.35218\n",
      "[2800]\tvalidation_0-logloss:0.35170\n",
      "[3200]\tvalidation_0-logloss:0.35119\n",
      "[3600]\tvalidation_0-logloss:0.35090\n",
      "[3786]\tvalidation_0-logloss:0.35087\n",
      "roc_auc_score: 0.8709343773922962\n",
      "--------------------------------------------------\n",
      "Fold: 2\n",
      "[23:32:06] WARNING: C:/Users/Administrator/workspace/xgboost-win64_release_1.4.0/src/learner.cc:1095: Starting in XGBoost 1.3.0, the default evaluation metric used with the objective 'binary:logistic' was changed from 'error' to 'logloss'. Explicitly set eval_metric if you'd like to restore the old behavior.\n",
      "[0]\tvalidation_0-logloss:0.68227\n",
      "[400]\tvalidation_0-logloss:0.38547\n",
      "[800]\tvalidation_0-logloss:0.36034\n",
      "[1200]\tvalidation_0-logloss:0.35464\n",
      "[1600]\tvalidation_0-logloss:0.35234\n",
      "[2000]\tvalidation_0-logloss:0.35130\n",
      "[2400]\tvalidation_0-logloss:0.35033\n",
      "[2800]\tvalidation_0-logloss:0.34973\n",
      "[3200]\tvalidation_0-logloss:0.34911\n",
      "[3600]\tvalidation_0-logloss:0.34878\n",
      "[4000]\tvalidation_0-logloss:0.34849\n",
      "[4400]\tvalidation_0-logloss:0.34814\n",
      "[4800]\tvalidation_0-logloss:0.34795\n",
      "[5200]\tvalidation_0-logloss:0.34785\n",
      "[5600]\tvalidation_0-logloss:0.34775\n",
      "[6000]\tvalidation_0-logloss:0.34759\n",
      "[6400]\tvalidation_0-logloss:0.34752\n",
      "[6537]\tvalidation_0-logloss:0.34753\n",
      "roc_auc_score: 0.8709163385545673\n",
      "--------------------------------------------------\n",
      "Fold: 3\n",
      "[23:37:50] WARNING: C:/Users/Administrator/workspace/xgboost-win64_release_1.4.0/src/learner.cc:1095: Starting in XGBoost 1.3.0, the default evaluation metric used with the objective 'binary:logistic' was changed from 'error' to 'logloss'. Explicitly set eval_metric if you'd like to restore the old behavior.\n",
      "[0]\tvalidation_0-logloss:0.68229\n",
      "[400]\tvalidation_0-logloss:0.38591\n",
      "[800]\tvalidation_0-logloss:0.36163\n",
      "[1200]\tvalidation_0-logloss:0.35646\n",
      "[1600]\tvalidation_0-logloss:0.35409\n",
      "[2000]\tvalidation_0-logloss:0.35300\n",
      "[2400]\tvalidation_0-logloss:0.35203\n",
      "[2800]\tvalidation_0-logloss:0.35136\n",
      "[3200]\tvalidation_0-logloss:0.35053\n",
      "[3600]\tvalidation_0-logloss:0.35015\n",
      "[4000]\tvalidation_0-logloss:0.34980\n",
      "[4400]\tvalidation_0-logloss:0.34947\n",
      "[4800]\tvalidation_0-logloss:0.34921\n",
      "[5200]\tvalidation_0-logloss:0.34906\n",
      "[5600]\tvalidation_0-logloss:0.34892\n",
      "[6000]\tvalidation_0-logloss:0.34872\n",
      "[6240]\tvalidation_0-logloss:0.34868\n",
      "roc_auc_score: 0.8712325803064337\n",
      "--------------------------------------------------\n",
      "Fold: 4\n",
      "[23:43:21] WARNING: C:/Users/Administrator/workspace/xgboost-win64_release_1.4.0/src/learner.cc:1095: Starting in XGBoost 1.3.0, the default evaluation metric used with the objective 'binary:logistic' was changed from 'error' to 'logloss'. Explicitly set eval_metric if you'd like to restore the old behavior.\n",
      "[0]\tvalidation_0-logloss:0.68223\n",
      "[400]\tvalidation_0-logloss:0.38231\n",
      "[800]\tvalidation_0-logloss:0.35618\n",
      "[1200]\tvalidation_0-logloss:0.35034\n",
      "[1600]\tvalidation_0-logloss:0.34793\n",
      "[2000]\tvalidation_0-logloss:0.34691\n",
      "[2400]\tvalidation_0-logloss:0.34593\n",
      "[2800]\tvalidation_0-logloss:0.34528\n",
      "[3200]\tvalidation_0-logloss:0.34460\n",
      "[3600]\tvalidation_0-logloss:0.34428\n",
      "[4000]\tvalidation_0-logloss:0.34397\n",
      "[4400]\tvalidation_0-logloss:0.34364\n",
      "[4800]\tvalidation_0-logloss:0.34339\n",
      "[5200]\tvalidation_0-logloss:0.34324\n",
      "[5600]\tvalidation_0-logloss:0.34308\n",
      "[6000]\tvalidation_0-logloss:0.34295\n",
      "[6028]\tvalidation_0-logloss:0.34295\n",
      "roc_auc_score: 0.8757221124512994\n",
      "--------------------------------------------------\n",
      "Fold: 5\n",
      "[23:48:42] WARNING: C:/Users/Administrator/workspace/xgboost-win64_release_1.4.0/src/learner.cc:1095: Starting in XGBoost 1.3.0, the default evaluation metric used with the objective 'binary:logistic' was changed from 'error' to 'logloss'. Explicitly set eval_metric if you'd like to restore the old behavior.\n",
      "[0]\tvalidation_0-logloss:0.68225\n",
      "[400]\tvalidation_0-logloss:0.38361\n",
      "[800]\tvalidation_0-logloss:0.35869\n",
      "[1200]\tvalidation_0-logloss:0.35334\n",
      "[1600]\tvalidation_0-logloss:0.35115\n",
      "[2000]\tvalidation_0-logloss:0.35019\n",
      "[2400]\tvalidation_0-logloss:0.34933\n",
      "[2800]\tvalidation_0-logloss:0.34880\n",
      "[3200]\tvalidation_0-logloss:0.34810\n",
      "[3600]\tvalidation_0-logloss:0.34778\n",
      "[4000]\tvalidation_0-logloss:0.34751\n",
      "[4400]\tvalidation_0-logloss:0.34718\n",
      "[4800]\tvalidation_0-logloss:0.34697\n",
      "[5200]\tvalidation_0-logloss:0.34679\n",
      "[5600]\tvalidation_0-logloss:0.34664\n",
      "[6000]\tvalidation_0-logloss:0.34650\n",
      "[6012]\tvalidation_0-logloss:0.34650\n",
      "roc_auc_score: 0.8724387334503858\n",
      "--------------------------------------------------\n",
      "Fold: 6\n",
      "[23:54:25] WARNING: C:/Users/Administrator/workspace/xgboost-win64_release_1.4.0/src/learner.cc:1095: Starting in XGBoost 1.3.0, the default evaluation metric used with the objective 'binary:logistic' was changed from 'error' to 'logloss'. Explicitly set eval_metric if you'd like to restore the old behavior.\n",
      "[0]\tvalidation_0-logloss:0.68222\n",
      "[400]\tvalidation_0-logloss:0.38144\n",
      "[800]\tvalidation_0-logloss:0.35478\n",
      "[1200]\tvalidation_0-logloss:0.34876\n",
      "[1600]\tvalidation_0-logloss:0.34630\n",
      "[2000]\tvalidation_0-logloss:0.34513\n",
      "[2400]\tvalidation_0-logloss:0.34413\n",
      "[2800]\tvalidation_0-logloss:0.34356\n",
      "[3200]\tvalidation_0-logloss:0.34291\n",
      "[3600]\tvalidation_0-logloss:0.34255\n",
      "[4000]\tvalidation_0-logloss:0.34231\n",
      "[4400]\tvalidation_0-logloss:0.34204\n",
      "[4800]\tvalidation_0-logloss:0.34183\n",
      "[5200]\tvalidation_0-logloss:0.34167\n",
      "[5600]\tvalidation_0-logloss:0.34157\n",
      "[6000]\tvalidation_0-logloss:0.34142\n",
      "[6400]\tvalidation_0-logloss:0.34133\n",
      "[6748]\tvalidation_0-logloss:0.34129\n",
      "roc_auc_score: 0.8779165597462146\n",
      "--------------------------------------------------\n",
      "Fold: 7\n",
      "[00:00:30] WARNING: C:/Users/Administrator/workspace/xgboost-win64_release_1.4.0/src/learner.cc:1095: Starting in XGBoost 1.3.0, the default evaluation metric used with the objective 'binary:logistic' was changed from 'error' to 'logloss'. Explicitly set eval_metric if you'd like to restore the old behavior.\n",
      "[0]\tvalidation_0-logloss:0.68223\n",
      "[400]\tvalidation_0-logloss:0.37539\n",
      "[800]\tvalidation_0-logloss:0.35562\n",
      "[1200]\tvalidation_0-logloss:0.35042\n",
      "[1600]\tvalidation_0-logloss:0.34809\n",
      "[2000]\tvalidation_0-logloss:0.34688\n",
      "[2400]\tvalidation_0-logloss:0.34603\n",
      "[2800]\tvalidation_0-logloss:0.34550\n",
      "[3200]\tvalidation_0-logloss:0.34517\n",
      "[3600]\tvalidation_0-logloss:0.34479\n",
      "[4000]\tvalidation_0-logloss:0.34450\n",
      "[4400]\tvalidation_0-logloss:0.34428\n",
      "[4800]\tvalidation_0-logloss:0.34405\n",
      "[5200]\tvalidation_0-logloss:0.34391\n",
      "[5296]\tvalidation_0-logloss:0.34391\n",
      "roc_auc_score: 0.8759405559058209\n",
      "--------------------------------------------------\n",
      "Fold: 8\n",
      "[00:05:17] WARNING: C:/Users/Administrator/workspace/xgboost-win64_release_1.4.0/src/learner.cc:1095: Starting in XGBoost 1.3.0, the default evaluation metric used with the objective 'binary:logistic' was changed from 'error' to 'logloss'. Explicitly set eval_metric if you'd like to restore the old behavior.\n",
      "[0]\tvalidation_0-logloss:0.68224\n",
      "[400]\tvalidation_0-logloss:0.37879\n",
      "[800]\tvalidation_0-logloss:0.35898\n",
      "[1200]\tvalidation_0-logloss:0.35356\n",
      "[1600]\tvalidation_0-logloss:0.35105\n",
      "[2000]\tvalidation_0-logloss:0.34974\n",
      "[2400]\tvalidation_0-logloss:0.34886\n",
      "[2800]\tvalidation_0-logloss:0.34830\n",
      "[3200]\tvalidation_0-logloss:0.34791\n",
      "[3600]\tvalidation_0-logloss:0.34754\n",
      "[4000]\tvalidation_0-logloss:0.34727\n",
      "[4400]\tvalidation_0-logloss:0.34710\n",
      "[4800]\tvalidation_0-logloss:0.34684\n",
      "[5200]\tvalidation_0-logloss:0.34669\n",
      "[5600]\tvalidation_0-logloss:0.34659\n",
      "[6000]\tvalidation_0-logloss:0.34640\n",
      "[6400]\tvalidation_0-logloss:0.34634\n",
      "[6469]\tvalidation_0-logloss:0.34633\n",
      "roc_auc_score: 0.871283843240801\n",
      "--------------------------------------------------\n"
     ]
    }
   ],
   "source": [
    "xgb_model = cross_val(X, y, XGBClassifier, xgb_params)"
   ]
  },
  {
   "cell_type": "markdown",
   "id": "incorporated-broad",
   "metadata": {},
   "source": [
    "## LightGradientBoosting:"
   ]
  },
  {
   "cell_type": "code",
   "execution_count": 45,
   "id": "distinct-redhead",
   "metadata": {},
   "outputs": [],
   "source": [
    "lgb_params= {'learning_rate': 0.045, \n",
    "             'n_estimators': 20000, \n",
    "             'max_bin': 200,\n",
    "             'num_leaves': 50, \n",
    "             'max_depth': 5, \n",
    "             'reg_alpha': 8.457, \n",
    "             'reg_lambda': 6.853, \n",
    "             'subsample': 0.749}"
   ]
  },
  {
   "cell_type": "code",
   "execution_count": 46,
   "id": "oriental-arrest",
   "metadata": {},
   "outputs": [
    {
     "name": "stdout",
     "output_type": "stream",
     "text": [
      "Fold: 0\n",
      "Training until validation scores don't improve for 100 rounds\n",
      "[400]\tvalid_0's binary_logloss: 0.341482\n",
      "Early stopping, best iteration is:\n",
      "[362]\tvalid_0's binary_logloss: 0.34144\n",
      "roc_auc_score: 0.8760160544024655\n",
      "--------------------------------------------------\n",
      "Fold: 1\n",
      "Training until validation scores don't improve for 100 rounds\n",
      "[400]\tvalid_0's binary_logloss: 0.347719\n",
      "Early stopping, best iteration is:\n",
      "[322]\tvalid_0's binary_logloss: 0.347663\n",
      "roc_auc_score: 0.8719766744853252\n",
      "--------------------------------------------------\n",
      "Fold: 2\n",
      "Training until validation scores don't improve for 100 rounds\n",
      "[400]\tvalid_0's binary_logloss: 0.346571\n",
      "Early stopping, best iteration is:\n",
      "[505]\tvalid_0's binary_logloss: 0.346524\n",
      "roc_auc_score: 0.8706995351540544\n",
      "--------------------------------------------------\n",
      "Fold: 3\n",
      "Training until validation scores don't improve for 100 rounds\n",
      "Early stopping, best iteration is:\n",
      "[273]\tvalid_0's binary_logloss: 0.346272\n",
      "roc_auc_score: 0.8722883220062523\n",
      "--------------------------------------------------\n",
      "Fold: 4\n",
      "Training until validation scores don't improve for 100 rounds\n",
      "[400]\tvalid_0's binary_logloss: 0.341767\n",
      "Early stopping, best iteration is:\n",
      "[364]\tvalid_0's binary_logloss: 0.341737\n",
      "roc_auc_score: 0.8760067406626624\n",
      "--------------------------------------------------\n",
      "Fold: 5\n",
      "Training until validation scores don't improve for 100 rounds\n",
      "Early stopping, best iteration is:\n",
      "[299]\tvalid_0's binary_logloss: 0.345083\n",
      "roc_auc_score: 0.8725284806504785\n",
      "--------------------------------------------------\n",
      "Fold: 6\n",
      "Training until validation scores don't improve for 100 rounds\n",
      "[400]\tvalid_0's binary_logloss: 0.339695\n",
      "Early stopping, best iteration is:\n",
      "[428]\tvalid_0's binary_logloss: 0.339656\n",
      "roc_auc_score: 0.8782083790020256\n",
      "--------------------------------------------------\n",
      "Fold: 7\n",
      "Training until validation scores don't improve for 100 rounds\n",
      "[400]\tvalid_0's binary_logloss: 0.342049\n",
      "Early stopping, best iteration is:\n",
      "[380]\tvalid_0's binary_logloss: 0.342039\n",
      "roc_auc_score: 0.8771518074671116\n",
      "--------------------------------------------------\n",
      "Fold: 8\n",
      "Training until validation scores don't improve for 100 rounds\n",
      "[400]\tvalid_0's binary_logloss: 0.344645\n",
      "Early stopping, best iteration is:\n",
      "[373]\tvalid_0's binary_logloss: 0.344625\n",
      "roc_auc_score: 0.8713381069370514\n",
      "--------------------------------------------------\n"
     ]
    }
   ],
   "source": [
    "from lightgbm import LGBMClassifier\n",
    "lgb_model = cross_val(X, y, LGBMClassifier, lgb_params)"
   ]
  },
  {
   "cell_type": "markdown",
   "id": "regular-performance",
   "metadata": {},
   "source": [
    "### Getting predictions based using the best performing model:"
   ]
  },
  {
   "cell_type": "markdown",
   "id": "central-pacific",
   "metadata": {},
   "source": [
    "#### The best performing model based on ROC_AUC score is XGBoost with a score of 0.87435"
   ]
  },
  {
   "cell_type": "code",
   "execution_count": 50,
   "id": "ahead-comparison",
   "metadata": {},
   "outputs": [],
   "source": [
    "predictions_xgb=lgb_model.predict_proba(test)[:,1]"
   ]
  },
  {
   "cell_type": "code",
   "execution_count": 38,
   "id": "criminal-award",
   "metadata": {},
   "outputs": [],
   "source": [
    "# predictions=(predictions_xg+predictions_lgbm+predictions_cb)/3"
   ]
  },
  {
   "cell_type": "code",
   "execution_count": 51,
   "id": "integral-validity",
   "metadata": {},
   "outputs": [],
   "source": [
    "pred=pd.DataFrame(predictions_xgb,columns=['Is_Lead'])"
   ]
  },
  {
   "cell_type": "code",
   "execution_count": 52,
   "id": "standard-surfing",
   "metadata": {},
   "outputs": [
    {
     "data": {
      "text/html": [
       "<div>\n",
       "<style scoped>\n",
       "    .dataframe tbody tr th:only-of-type {\n",
       "        vertical-align: middle;\n",
       "    }\n",
       "\n",
       "    .dataframe tbody tr th {\n",
       "        vertical-align: top;\n",
       "    }\n",
       "\n",
       "    .dataframe thead th {\n",
       "        text-align: right;\n",
       "    }\n",
       "</style>\n",
       "<table border=\"1\" class=\"dataframe\">\n",
       "  <thead>\n",
       "    <tr style=\"text-align: right;\">\n",
       "      <th></th>\n",
       "      <th>Is_Lead</th>\n",
       "    </tr>\n",
       "  </thead>\n",
       "  <tbody>\n",
       "    <tr>\n",
       "      <th>0</th>\n",
       "      <td>0.051245</td>\n",
       "    </tr>\n",
       "    <tr>\n",
       "      <th>1</th>\n",
       "      <td>0.865353</td>\n",
       "    </tr>\n",
       "    <tr>\n",
       "      <th>2</th>\n",
       "      <td>0.055430</td>\n",
       "    </tr>\n",
       "    <tr>\n",
       "      <th>3</th>\n",
       "      <td>0.024627</td>\n",
       "    </tr>\n",
       "    <tr>\n",
       "      <th>4</th>\n",
       "      <td>0.023319</td>\n",
       "    </tr>\n",
       "    <tr>\n",
       "      <th>5</th>\n",
       "      <td>0.085338</td>\n",
       "    </tr>\n",
       "    <tr>\n",
       "      <th>6</th>\n",
       "      <td>0.084865</td>\n",
       "    </tr>\n",
       "    <tr>\n",
       "      <th>7</th>\n",
       "      <td>0.054272</td>\n",
       "    </tr>\n",
       "    <tr>\n",
       "      <th>8</th>\n",
       "      <td>0.996514</td>\n",
       "    </tr>\n",
       "    <tr>\n",
       "      <th>9</th>\n",
       "      <td>0.164559</td>\n",
       "    </tr>\n",
       "  </tbody>\n",
       "</table>\n",
       "</div>"
      ],
      "text/plain": [
       "    Is_Lead\n",
       "0  0.051245\n",
       "1  0.865353\n",
       "2  0.055430\n",
       "3  0.024627\n",
       "4  0.023319\n",
       "5  0.085338\n",
       "6  0.084865\n",
       "7  0.054272\n",
       "8  0.996514\n",
       "9  0.164559"
      ]
     },
     "execution_count": 52,
     "metadata": {},
     "output_type": "execute_result"
    }
   ],
   "source": [
    "pred.head(10)"
   ]
  },
  {
   "cell_type": "code",
   "execution_count": 53,
   "id": "center-specification",
   "metadata": {},
   "outputs": [],
   "source": [
    "sample_submission = pd.read_csv('sample_submission.csv')"
   ]
  },
  {
   "cell_type": "code",
   "execution_count": 54,
   "id": "sought-upgrade",
   "metadata": {},
   "outputs": [],
   "source": [
    "sample_submission['Is_Lead'] = pred\n",
    "sample_submission.to_csv(f'E:\\Hackathon\\Job-A-Thon 2\\jobathonpred1.csv',index=False)"
   ]
  },
  {
   "cell_type": "code",
   "execution_count": null,
   "id": "average-garage",
   "metadata": {},
   "outputs": [],
   "source": []
  }
 ],
 "metadata": {
  "kernelspec": {
   "display_name": "Python 3",
   "language": "python",
   "name": "python3"
  },
  "language_info": {
   "codemirror_mode": {
    "name": "ipython",
    "version": 3
   },
   "file_extension": ".py",
   "mimetype": "text/x-python",
   "name": "python",
   "nbconvert_exporter": "python",
   "pygments_lexer": "ipython3",
   "version": "3.9.2"
  }
 },
 "nbformat": 4,
 "nbformat_minor": 5
}
